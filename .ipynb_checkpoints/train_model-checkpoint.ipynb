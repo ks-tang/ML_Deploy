{
 "cells": [
  {
   "cell_type": "code",
   "execution_count": 3,
   "id": "564e1b97-5c74-4fd3-874a-4d32120ef187",
   "metadata": {},
   "outputs": [
    {
     "name": "stdout",
     "output_type": "stream",
     "text": [
      "Requirement already satisfied: numpy in c:\\users\\kevin\\anaconda3\\envs\\ml_deploy_env\\lib\\site-packages (2.2.4)\n",
      "Collecting pandas\n",
      "  Using cached pandas-2.2.3-cp313-cp313-win_amd64.whl.metadata (19 kB)\n",
      "Collecting matplotlib\n",
      "  Using cached matplotlib-3.10.1-cp313-cp313-win_amd64.whl.metadata (11 kB)\n",
      "Collecting scikit-learn\n",
      "  Downloading scikit_learn-1.6.1-cp313-cp313-win_amd64.whl.metadata (15 kB)\n",
      "Collecting joblib\n",
      "  Downloading joblib-1.4.2-py3-none-any.whl.metadata (5.4 kB)\n",
      "Requirement already satisfied: python-dateutil>=2.8.2 in c:\\users\\kevin\\anaconda3\\envs\\ml_deploy_env\\lib\\site-packages (from pandas) (2.9.0.post0)\n",
      "Collecting pytz>=2020.1 (from pandas)\n",
      "  Downloading pytz-2025.2-py2.py3-none-any.whl.metadata (22 kB)\n",
      "Collecting tzdata>=2022.7 (from pandas)\n",
      "  Downloading tzdata-2025.2-py2.py3-none-any.whl.metadata (1.4 kB)\n",
      "Collecting contourpy>=1.0.1 (from matplotlib)\n",
      "  Downloading contourpy-1.3.1-cp313-cp313-win_amd64.whl.metadata (5.4 kB)\n",
      "Collecting cycler>=0.10 (from matplotlib)\n",
      "  Downloading cycler-0.12.1-py3-none-any.whl.metadata (3.8 kB)\n",
      "Collecting fonttools>=4.22.0 (from matplotlib)\n",
      "  Downloading fonttools-4.56.0-cp313-cp313-win_amd64.whl.metadata (103 kB)\n",
      "Collecting kiwisolver>=1.3.1 (from matplotlib)\n",
      "  Downloading kiwisolver-1.4.8-cp313-cp313-win_amd64.whl.metadata (6.3 kB)\n",
      "Requirement already satisfied: packaging>=20.0 in c:\\users\\kevin\\anaconda3\\envs\\ml_deploy_env\\lib\\site-packages (from matplotlib) (24.2)\n",
      "Collecting pillow>=8 (from matplotlib)\n",
      "  Downloading pillow-11.1.0-cp313-cp313-win_amd64.whl.metadata (9.3 kB)\n",
      "Collecting pyparsing>=2.3.1 (from matplotlib)\n",
      "  Downloading pyparsing-3.2.3-py3-none-any.whl.metadata (5.0 kB)\n",
      "Collecting scipy>=1.6.0 (from scikit-learn)\n",
      "  Downloading scipy-1.15.2-cp313-cp313-win_amd64.whl.metadata (60 kB)\n",
      "Collecting threadpoolctl>=3.1.0 (from scikit-learn)\n",
      "  Downloading threadpoolctl-3.6.0-py3-none-any.whl.metadata (13 kB)\n",
      "Requirement already satisfied: six>=1.5 in c:\\users\\kevin\\anaconda3\\envs\\ml_deploy_env\\lib\\site-packages (from python-dateutil>=2.8.2->pandas) (1.16.0)\n",
      "Downloading pandas-2.2.3-cp313-cp313-win_amd64.whl (11.5 MB)\n",
      "   ---------------------------------------- 0.0/11.5 MB ? eta -:--:--\n",
      "   -------------------- ------------------- 5.8/11.5 MB 30.4 MB/s eta 0:00:01\n",
      "   ---------------------------------------  11.3/11.5 MB 29.7 MB/s eta 0:00:01\n",
      "   ---------------------------------------- 11.5/11.5 MB 26.2 MB/s eta 0:00:00\n",
      "Downloading matplotlib-3.10.1-cp313-cp313-win_amd64.whl (8.1 MB)\n",
      "   ---------------------------------------- 0.0/8.1 MB ? eta -:--:--\n",
      "   --------------------------- ------------ 5.5/8.1 MB 27.9 MB/s eta 0:00:01\n",
      "   ---------------------------------------- 8.1/8.1 MB 26.1 MB/s eta 0:00:00\n",
      "Downloading scikit_learn-1.6.1-cp313-cp313-win_amd64.whl (11.1 MB)\n",
      "   ---------------------------------------- 0.0/11.1 MB ? eta -:--:--\n",
      "   ------------------------ --------------- 6.8/11.1 MB 31.7 MB/s eta 0:00:01\n",
      "   ---------------------------------------- 11.1/11.1 MB 27.1 MB/s eta 0:00:00\n",
      "Downloading joblib-1.4.2-py3-none-any.whl (301 kB)\n",
      "Downloading contourpy-1.3.1-cp313-cp313-win_amd64.whl (220 kB)\n",
      "Downloading cycler-0.12.1-py3-none-any.whl (8.3 kB)\n",
      "Downloading fonttools-4.56.0-cp313-cp313-win_amd64.whl (2.2 MB)\n",
      "   ---------------------------------------- 0.0/2.2 MB ? eta -:--:--\n",
      "   ---------------------------------------- 2.2/2.2 MB 20.7 MB/s eta 0:00:00\n",
      "Downloading kiwisolver-1.4.8-cp313-cp313-win_amd64.whl (71 kB)\n",
      "Downloading pillow-11.1.0-cp313-cp313-win_amd64.whl (2.6 MB)\n",
      "   ---------------------------------------- 0.0/2.6 MB ? eta -:--:--\n",
      "   ---------------------------------------- 2.6/2.6 MB 23.1 MB/s eta 0:00:00\n",
      "Downloading pyparsing-3.2.3-py3-none-any.whl (111 kB)\n",
      "Downloading pytz-2025.2-py2.py3-none-any.whl (509 kB)\n",
      "Downloading scipy-1.15.2-cp313-cp313-win_amd64.whl (41.0 MB)\n",
      "   ---------------------------------------- 0.0/41.0 MB ? eta -:--:--\n",
      "   ------ --------------------------------- 6.3/41.0 MB 31.1 MB/s eta 0:00:02\n",
      "   ----------- ---------------------------- 12.1/41.0 MB 29.5 MB/s eta 0:00:01\n",
      "   ----------------- ---------------------- 18.4/41.0 MB 28.9 MB/s eta 0:00:01\n",
      "   ------------------------ --------------- 24.9/41.0 MB 29.4 MB/s eta 0:00:01\n",
      "   ----------------------------- ---------- 30.7/41.0 MB 29.3 MB/s eta 0:00:01\n",
      "   ------------------------------------ --- 37.2/41.0 MB 29.5 MB/s eta 0:00:01\n",
      "   ---------------------------------------  40.9/41.0 MB 29.6 MB/s eta 0:00:01\n",
      "   ---------------------------------------- 41.0/41.0 MB 26.6 MB/s eta 0:00:00\n",
      "Downloading threadpoolctl-3.6.0-py3-none-any.whl (18 kB)\n",
      "Downloading tzdata-2025.2-py2.py3-none-any.whl (347 kB)\n",
      "Installing collected packages: pytz, tzdata, threadpoolctl, scipy, pyparsing, pillow, kiwisolver, joblib, fonttools, cycler, contourpy, scikit-learn, pandas, matplotlib\n",
      "Successfully installed contourpy-1.3.1 cycler-0.12.1 fonttools-4.56.0 joblib-1.4.2 kiwisolver-1.4.8 matplotlib-3.10.1 pandas-2.2.3 pillow-11.1.0 pyparsing-3.2.3 pytz-2025.2 scikit-learn-1.6.1 scipy-1.15.2 threadpoolctl-3.6.0 tzdata-2025.2\n",
      "Note: you may need to restart the kernel to use updated packages.\n"
     ]
    }
   ],
   "source": [
    "pip install numpy pandas matplotlib scikit-learn joblib"
   ]
  },
  {
   "cell_type": "code",
   "execution_count": 5,
   "id": "f5fc6ba4-c798-413f-9037-bc952c202151",
   "metadata": {},
   "outputs": [],
   "source": [
    "import numpy as np\n",
    "import pandas as pd\n",
    "import matplotlib.pyplot as plt\n",
    "from sklearn.model_selection import train_test_split\n",
    "from sklearn.preprocessing import StandardScaler\n",
    "from sklearn.linear_model import LinearRegression\n",
    "from sklearn.metrics import mean_squared_error, r2_score\n",
    "import joblib"
   ]
  },
  {
   "cell_type": "code",
   "execution_count": 10,
   "id": "9333a3a8-80cd-4a74-aa03-2b9ca2794437",
   "metadata": {},
   "outputs": [],
   "source": [
    "# Générer des data aléatoires\n",
    "\n",
    "np.random.seed(42)\n",
    "\n",
    "n_samples = 500\n",
    "X1 = np.random.uniform(1, 10, n_samples) # heures aléatoires entre 1 et 10, 500 données\n",
    "noise = np.random.normal(0, 5, n_samples) # bruit centré sur 0 et deviation de 5 \n",
    "y = 10 * X1 + noise # relation linéaire avec bruit"
   ]
  },
  {
   "cell_type": "code",
   "execution_count": 15,
   "id": "f5519568-c957-4fbb-8cc0-c5ff4a4e095f",
   "metadata": {},
   "outputs": [
    {
     "data": {
      "text/html": [
       "<div>\n",
       "<style scoped>\n",
       "    .dataframe tbody tr th:only-of-type {\n",
       "        vertical-align: middle;\n",
       "    }\n",
       "\n",
       "    .dataframe tbody tr th {\n",
       "        vertical-align: top;\n",
       "    }\n",
       "\n",
       "    .dataframe thead th {\n",
       "        text-align: right;\n",
       "    }\n",
       "</style>\n",
       "<table border=\"1\" class=\"dataframe\">\n",
       "  <thead>\n",
       "    <tr style=\"text-align: right;\">\n",
       "      <th></th>\n",
       "      <th>Hours_Studied</th>\n",
       "      <th>Test_Score</th>\n",
       "    </tr>\n",
       "  </thead>\n",
       "  <tbody>\n",
       "    <tr>\n",
       "      <th>0</th>\n",
       "      <td>4.370861</td>\n",
       "      <td>45.417391</td>\n",
       "    </tr>\n",
       "    <tr>\n",
       "      <th>1</th>\n",
       "      <td>9.556429</td>\n",
       "      <td>104.945142</td>\n",
       "    </tr>\n",
       "    <tr>\n",
       "      <th>2</th>\n",
       "      <td>7.587945</td>\n",
       "      <td>80.631574</td>\n",
       "    </tr>\n",
       "    <tr>\n",
       "      <th>3</th>\n",
       "      <td>6.387926</td>\n",
       "      <td>60.994745</td>\n",
       "    </tr>\n",
       "    <tr>\n",
       "      <th>4</th>\n",
       "      <td>2.404168</td>\n",
       "      <td>19.549604</td>\n",
       "    </tr>\n",
       "  </tbody>\n",
       "</table>\n",
       "</div>"
      ],
      "text/plain": [
       "   Hours_Studied  Test_Score\n",
       "0       4.370861   45.417391\n",
       "1       9.556429  104.945142\n",
       "2       7.587945   80.631574\n",
       "3       6.387926   60.994745\n",
       "4       2.404168   19.549604"
      ]
     },
     "execution_count": 15,
     "metadata": {},
     "output_type": "execute_result"
    }
   ],
   "source": [
    "# Creation d'un dataframe avec 2 colonnes\n",
    "data = pd.DataFrame({'Hours_Studied': X1, 'Test_Score': y})\n",
    "data.head()"
   ]
  },
  {
   "cell_type": "code",
   "execution_count": 16,
   "id": "890313ae-3b26-492b-b3ee-8b920c43729d",
   "metadata": {},
   "outputs": [
    {
     "data": {
      "image/png": "[encoded data removed]",
      "text/plain": [
       "<Figure size 640x480 with 1 Axes>"
      ]
     },
     "metadata": {},
     "output_type": "display_data"
    },
    {
     "name": "stdout",
     "output_type": "stream",
     "text": [
      "               Hours_Studied  Test_Score\n",
      "Hours_Studied       1.000000    0.983399\n",
      "Test_Score          0.983399    1.000000\n"
     ]
    }
   ],
   "source": [
    "# Visualisation\n",
    "plt.scatter(data['Hours_Studied'], data['Test_Score'])\n",
    "plt.title('Hours_Studied vs Test_Score')\n",
    "plt.xlabel('Hours_Studied')\n",
    "plt.ylabel('Test_Score')\n",
    "plt.show()\n",
    "\n",
    "# Correlation\n",
    "corr_matrix = data.corr()\n",
    "print(corr_matrix)"
   ]
  },
  {
   "cell_type": "code",
   "execution_count": 17,
   "id": "fe52e7f9-54dc-4fed-8b7f-dc23f2085bb1",
   "metadata": {},
   "outputs": [],
   "source": [
    "# Split data\n",
    "X = data[['Hours_Studied']]\n",
    "y = data['Test_Score']\n",
    "\n",
    "X_train, X_test, y_train, y_test = train_test_split(X, y, test_size=0.2, random_state=42)\n",
    "\n",
    "# Scale\n",
    "scaler = StandardScaler()\n",
    "X_train_scaled = scaler.fit_transform(X_train)\n",
    "X_test_scaled = scaler.transform(X_test)"
   ]
  },
  {
   "cell_type": "code",
   "execution_count": 25,
   "id": "fac534e5-dacd-4de6-9519-0b3558fca56e",
   "metadata": {},
   "outputs": [
    {
     "name": "stdout",
     "output_type": "stream",
     "text": [
      "Coefficient:  [27.31629308]\n",
      "Intercept:  55.31588683514129\n"
     ]
    }
   ],
   "source": [
    "# Model\n",
    "model = LinearRegression()\n",
    "\n",
    "# Train du model\n",
    "model.fit(X_train_scaled, y_train)\n",
    "\n",
    "print(\"Coefficient: \", model.coef_)\n",
    "print(\"Intercept: \", model.intercept_)\n",
    "\n",
    "# y = ax + b\n",
    "# a : coefficient\n",
    "# b : intercept (y=b là où la droite croise l'axe quand x=0)"
   ]
  },
  {
   "cell_type": "code",
   "execution_count": 26,
   "id": "10c5d7bf-014f-4acc-9eda-2a4ccc86b8f1",
   "metadata": {},
   "outputs": [
    {
     "name": "stdout",
     "output_type": "stream",
     "text": [
      "Predicted Test Score: 60.03282292232381\n"
     ]
    }
   ],
   "source": [
    "# Exemple de prediction\n",
    "new_data = np.array([[6]])\n",
    "new_data_df = pd.DataFrame(new_data, columns=['Hours_Studied'])\n",
    "\n",
    "new_data_scaled = scaler.transform(new_data_df)\n",
    "\n",
    "prediction = model.predict(new_data_scaled)\n",
    "\n",
    "print(f\"Predicted Test Score: {prediction[0]}\")"
   ]
  },
  {
   "cell_type": "code",
   "execution_count": 31,
   "id": "5dd9a901-3140-4891-af9b-78148b6cc848",
   "metadata": {},
   "outputs": [
    {
     "name": "stdout",
     "output_type": "stream",
     "text": [
      "Mean Squared Error: 26.105427937987933\n",
      "R-squared: 0.9645671742510007\n"
     ]
    }
   ],
   "source": [
    "# Prediction sur le set de test\n",
    "y_pred = model.predict(X_test_scaled)\n",
    "\n",
    "# Evaluation\n",
    "mse = mean_squared_error(y_test, y_pred)\n",
    "r2 = r2_score(y_test, y_pred)\n",
    "\n",
    "print(f\"Mean Squared Error: {mse}\")\n",
    "print(f\"R-squared: {r2}\")\n",
    "\n",
    "# mse quantifie la distance carré moyenne entre y_test et y_pred, doit etre faible\n",
    "# r2 quantifie la variance exprimée par le model, le model comprend bien la relation entre les caractéristiques, doit etre élevé"
   ]
  },
  {
   "cell_type": "code",
   "execution_count": 32,
   "id": "9ef82292-e50f-491e-810d-5f4315a6cd45",
   "metadata": {},
   "outputs": [
    {
     "data": {
      "text/plain": [
       "['scaler.pkl']"
      ]
     },
     "execution_count": 32,
     "metadata": {},
     "output_type": "execute_result"
    }
   ],
   "source": [
    "# Sauvegarde du model \n",
    "joblib.dump(model, 'linear_regression_model.pkl')\n",
    "\n",
    "# Sauvegarde du scaler\n",
    "joblib.dump(scaler, 'scaler.pkl')"
   ]
  },
  {
   "cell_type": "code",
   "execution_count": 33,
   "id": "5d5bdabf-6eee-4dd9-a382-a91d0bd4b189",
   "metadata": {},
   "outputs": [],
   "source": [
    "# Load du model\n",
    "loaded_model = joblib.load('linear_regression_model.pkl')\n",
    "\n",
    "# Load du scaler\n",
    "loaded_scaler = joblib.load('scaler.pkl')"
   ]
  },
  {
   "cell_type": "code",
   "execution_count": 34,
   "id": "c2ddd114-47a6-45ad-b4ed-237f2ba682cb",
   "metadata": {},
   "outputs": [
    {
     "name": "stdout",
     "output_type": "stream",
     "text": [
      "Predicted Test Score: 60.03282292232381\n"
     ]
    }
   ],
   "source": [
    "# Exemple de prediction\n",
    "new_data = np.array([[6]])\n",
    "new_data_df = pd.DataFrame(new_data, columns=['Hours_Studied'])\n",
    "\n",
    "new_data_scaled = loaded_scaler.transform(new_data_df)\n",
    "\n",
    "prediction = loaded_model.predict(new_data_scaled)\n",
    "\n",
    "print(f\"Predicted Test Score: {prediction[0]}\")"
   ]
  },
  {
   "cell_type": "code",
   "execution_count": null,
   "id": "734898da-4dee-4e96-b36e-606ebbce9a58",
   "metadata": {},
   "outputs": [],
   "source": []
  }
 ],
 "metadata": {
  "kernelspec": {
   "display_name": "Python 3 (ipykernel)",
   "language": "python",
   "name": "python3"
  },
  "language_info": {
   "codemirror_mode": {
    "name": "ipython",
    "version": 3
   },
   "file_extension": ".py",
   "mimetype": "text/x-python",
   "name": "python",
   "nbconvert_exporter": "python",
   "pygments_lexer": "ipython3",
   "version": "3.13.2"
  }
 },
 "nbformat": 4,
 "nbformat_minor": 5
}
